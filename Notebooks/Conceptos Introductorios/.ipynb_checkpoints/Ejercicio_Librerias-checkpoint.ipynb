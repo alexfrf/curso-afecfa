{
 "cells": [
  {
   "cell_type": "markdown",
   "id": "diagnostic-newsletter",
   "metadata": {},
   "source": [
    "## Ejercicio 2: Librerías (NumPY, Pandas y Matplotlib)"
   ]
  },
  {
   "cell_type": "markdown",
   "id": "artificial-biotechnology",
   "metadata": {},
   "source": [
    "#### 1.- Importa las tres librerías: NumPY, Pandas y Matplotlib"
   ]
  },
  {
   "cell_type": "code",
   "execution_count": 1,
   "id": "exclusive-color",
   "metadata": {},
   "outputs": [],
   "source": [
    "import pandas as pd\n",
    "import numpy as np\n",
    "import matplotlib\n",
    "import matplotlib.pyplot as plt\n",
    "import os\n",
    "from pathlib import Path"
   ]
  },
  {
   "cell_type": "markdown",
   "id": "alike-planning",
   "metadata": {},
   "source": [
    "#### 2.- Entra en cualquier página de estadísticas de fútbol (fbref, sofascore, whoscored, etc) y elige un equipo de fútbol. Crea un array unidimensional con Numpy con cinco métricas de rendimiento del equipo. \n",
    "\n",
    "Por ejemplo, entrar en fbref, elegir el Osasuna y almacenar en un array datos de %Pases, Presiones exitosas, Asistencias, Penaltys a favor y Tackles."
   ]
  },
  {
   "cell_type": "code",
   "execution_count": 2,
   "id": "9c87294e",
   "metadata": {},
   "outputs": [],
   "source": [
    "base_dir = os.path.join('',Path(os.getcwd()).parents[1])\n",
    "data_dir = os.path.join(base_dir, 'Data/Comps')\n",
    "img_dir = os.path.join(base_dir, 'img/Plotting')"
   ]
  },
  {
   "cell_type": "code",
   "execution_count": 3,
   "id": "tested-yemen",
   "metadata": {},
   "outputs": [
    {
     "name": "stdout",
     "output_type": "stream",
     "text": [
      "<class 'pandas.core.frame.DataFrame'>\n",
      "RangeIndex: 98 entries, 0 to 97\n",
      "Columns: 462 entries, Rk to TeamSuccess(xG)_xG+/-90_ag\n",
      "dtypes: float64(452), int64(2), object(8)\n",
      "memory usage: 353.8+ KB\n"
     ]
    }
   ],
   "source": [
    "fbref = pd.read_csv(data_dir+'/FBREF_Squads.csv',sep=';',decimal=',')\n",
    "fbref.info()"
   ]
  },
  {
   "cell_type": "code",
   "execution_count": 4,
   "id": "d26cc1cb",
   "metadata": {},
   "outputs": [],
   "source": [
    "cols=['Poss','Prog','KP','Pressures_Press','Pressures_%']"
   ]
  },
  {
   "cell_type": "code",
   "execution_count": 5,
   "id": "31643beb",
   "metadata": {},
   "outputs": [
    {
     "data": {
      "text/html": [
       "<div>\n",
       "<style scoped>\n",
       "    .dataframe tbody tr th:only-of-type {\n",
       "        vertical-align: middle;\n",
       "    }\n",
       "\n",
       "    .dataframe tbody tr th {\n",
       "        vertical-align: top;\n",
       "    }\n",
       "\n",
       "    .dataframe thead th {\n",
       "        text-align: right;\n",
       "    }\n",
       "</style>\n",
       "<table border=\"1\" class=\"dataframe\">\n",
       "  <thead>\n",
       "    <tr style=\"text-align: right;\">\n",
       "      <th></th>\n",
       "      <th>Rk</th>\n",
       "      <th>Squad</th>\n",
       "      <th>Comp</th>\n",
       "      <th>#Pl</th>\n",
       "      <th>Age</th>\n",
       "      <th>Poss</th>\n",
       "      <th>MP</th>\n",
       "      <th>Starts</th>\n",
       "      <th>Min</th>\n",
       "      <th>90s</th>\n",
       "      <th>...</th>\n",
       "      <th>unSub_ag</th>\n",
       "      <th>TeamSuccess_PPM_ag</th>\n",
       "      <th>TeamSuccess_onG_ag</th>\n",
       "      <th>TeamSuccess_onGA_ag</th>\n",
       "      <th>TeamSuccess_+/-_ag</th>\n",
       "      <th>TeamSuccess_+/-90_ag</th>\n",
       "      <th>TeamSuccess(xG)_onxG_ag</th>\n",
       "      <th>TeamSuccess(xG)_onxGA_ag</th>\n",
       "      <th>TeamSuccess(xG)_xG+/-_ag</th>\n",
       "      <th>TeamSuccess(xG)_xG+/-90_ag</th>\n",
       "    </tr>\n",
       "  </thead>\n",
       "  <tbody>\n",
       "    <tr>\n",
       "      <th>21</th>\n",
       "      <td>22</td>\n",
       "      <td>Celta Vigo</td>\n",
       "      <td>es La Liga</td>\n",
       "      <td>25.0</td>\n",
       "      <td>0.747368</td>\n",
       "      <td>55.6</td>\n",
       "      <td>38.0</td>\n",
       "      <td>418.0</td>\n",
       "      <td>3420.0</td>\n",
       "      <td>38.0</td>\n",
       "      <td>...</td>\n",
       "      <td>6.34</td>\n",
       "      <td>0.03</td>\n",
       "      <td>1.13</td>\n",
       "      <td>1.13</td>\n",
       "      <td>0.0</td>\n",
       "      <td>0.0</td>\n",
       "      <td>1.23</td>\n",
       "      <td>1.16</td>\n",
       "      <td>2.6</td>\n",
       "      <td>0.07</td>\n",
       "    </tr>\n",
       "  </tbody>\n",
       "</table>\n",
       "<p>1 rows × 462 columns</p>\n",
       "</div>"
      ],
      "text/plain": [
       "    Rk       Squad        Comp   #Pl       Age  Poss    MP  Starts     Min  \\\n",
       "21  22  Celta Vigo  es La Liga  25.0  0.747368  55.6  38.0   418.0  3420.0   \n",
       "\n",
       "     90s  ...  unSub_ag  TeamSuccess_PPM_ag  TeamSuccess_onG_ag  \\\n",
       "21  38.0  ...      6.34                0.03                1.13   \n",
       "\n",
       "    TeamSuccess_onGA_ag  TeamSuccess_+/-_ag  TeamSuccess_+/-90_ag  \\\n",
       "21                 1.13                 0.0                   0.0   \n",
       "\n",
       "    TeamSuccess(xG)_onxG_ag  TeamSuccess(xG)_onxGA_ag  \\\n",
       "21                     1.23                      1.16   \n",
       "\n",
       "    TeamSuccess(xG)_xG+/-_ag  TeamSuccess(xG)_xG+/-90_ag  \n",
       "21                       2.6                        0.07  \n",
       "\n",
       "[1 rows x 462 columns]"
      ]
     },
     "execution_count": 5,
     "metadata": {},
     "output_type": "execute_result"
    }
   ],
   "source": [
    "df = fbref\n",
    "celta = df[df['Squad'].str.contains('Celta')]\n",
    "celta"
   ]
  },
  {
   "cell_type": "code",
   "execution_count": 6,
   "id": "9373cd84",
   "metadata": {},
   "outputs": [
    {
     "data": {
      "text/plain": [
       "array([ 55.6 ,  30.53,   7.21, 167.42,  31.2 ])"
      ]
     },
     "execution_count": 6,
     "metadata": {},
     "output_type": "execute_result"
    }
   ],
   "source": [
    "ar = np.array([celta['Poss'].values[0],\n",
    "               celta['Prog'].values[0],\n",
    "               celta['KP'].values[0],\n",
    "               celta['Pressures_Press'].values[0],\n",
    "               celta['Pressures_%'].values[0]])\n",
    "ar"
   ]
  },
  {
   "cell_type": "markdown",
   "id": "bottom-negotiation",
   "metadata": {},
   "source": [
    "#### 3. Elegir dos equipos de la misma competición y repetir el proceso. Forma una matriz con Numpy con estos datos."
   ]
  },
  {
   "cell_type": "code",
   "execution_count": 7,
   "id": "0f895916",
   "metadata": {},
   "outputs": [],
   "source": [
    "list_teams = ['celta','getafe']"
   ]
  },
  {
   "cell_type": "code",
   "execution_count": 8,
   "id": "liked-worth",
   "metadata": {},
   "outputs": [],
   "source": [
    "ar = np.zeros(shape=(len(list_teams),5))\n",
    "for i,j in zip(range(len(list_teams)),list_teams):\n",
    "    k = df[df['Squad'].str.contains(j.title())].head(1)\n",
    "    ar[i] = [k['Poss'].values[0],\n",
    "               k['Prog'].values[0],\n",
    "               k['KP'].values[0],\n",
    "               k['Pressures_Press'].values[0],\n",
    "               k['Pressures_%'].values[0]]"
   ]
  },
  {
   "cell_type": "code",
   "execution_count": 9,
   "id": "9353f2e4",
   "metadata": {
    "scrolled": false
   },
   "outputs": [
    {
     "data": {
      "text/plain": [
       "array([[ 55.6 ,  30.53,   7.21, 167.42,  31.2 ],\n",
       "       [ 41.2 ,  21.95,   7.42, 159.16,  27.1 ]])"
      ]
     },
     "execution_count": 9,
     "metadata": {},
     "output_type": "execute_result"
    }
   ],
   "source": [
    "ar"
   ]
  },
  {
   "cell_type": "markdown",
   "id": "productive-credits",
   "metadata": {},
   "source": [
    "#### 4. Muestra todos los elementos de la matriz creada que contiene datos de los tres equipos."
   ]
  },
  {
   "cell_type": "code",
   "execution_count": 10,
   "id": "complicated-workshop",
   "metadata": {},
   "outputs": [],
   "source": [
    "list_teams.append('athletic')\n",
    "ar = np.zeros(shape=(len(list_teams),5))\n",
    "for i,j in zip(range(len(list_teams)),list_teams):\n",
    "    k = df[df['Squad'].str.contains(j.title())].head(1)\n",
    "    ar[i] = [k['Poss'].values[0],\n",
    "               k['Prog'].values[0],\n",
    "               k['KP'].values[0],\n",
    "               k['Pressures_Press'].values[0],\n",
    "               k['Pressures_%'].values[0]]"
   ]
  },
  {
   "cell_type": "code",
   "execution_count": 11,
   "id": "a17cb45f",
   "metadata": {},
   "outputs": [
    {
     "data": {
      "text/plain": [
       "array([[ 55.6 ,  30.53,   7.21, 167.42,  31.2 ],\n",
       "       [ 41.2 ,  21.95,   7.42, 159.16,  27.1 ],\n",
       "       [ 48.1 ,  35.42,   8.95, 143.66,  27.9 ]])"
      ]
     },
     "execution_count": 11,
     "metadata": {},
     "output_type": "execute_result"
    }
   ],
   "source": [
    "ar"
   ]
  },
  {
   "cell_type": "markdown",
   "id": "encouraging-joint",
   "metadata": {},
   "source": [
    "#### 5.- Obten el valor máximo y el valor mínimo de cada métrica utilizando NumPY."
   ]
  },
  {
   "cell_type": "code",
   "execution_count": 12,
   "id": "silver-payday",
   "metadata": {},
   "outputs": [
    {
     "name": "stdout",
     "output_type": "stream",
     "text": [
      "Max. : 55.6 // Min. : 41.2\n",
      "Max. : 35.42 // Min. : 21.95\n",
      "Max. : 8.95 // Min. : 7.21\n",
      "Max. : 167.42 // Min. : 143.66\n",
      "Max. : 31.2 // Min. : 27.1\n"
     ]
    }
   ],
   "source": [
    "for i in range(ar.shape[1]):\n",
    "    print('Max. :',np.max(ar.T[i]),'//','Min. :',np.min(ar.T[i]))"
   ]
  },
  {
   "cell_type": "markdown",
   "id": "warming-motorcycle",
   "metadata": {},
   "source": [
    "#### 6.- Define un Dataframe desde la matriz construida en el punto 3.\n",
    "#### 7.- Establece correctamente los índices de la matriz y los nombres de las columnas. Lo ideal es que las columnas se llamen como las métricas seleccionadas."
   ]
  },
  {
   "cell_type": "code",
   "execution_count": 13,
   "id": "attended-making",
   "metadata": {},
   "outputs": [
    {
     "data": {
      "text/html": [
       "<div>\n",
       "<style scoped>\n",
       "    .dataframe tbody tr th:only-of-type {\n",
       "        vertical-align: middle;\n",
       "    }\n",
       "\n",
       "    .dataframe tbody tr th {\n",
       "        vertical-align: top;\n",
       "    }\n",
       "\n",
       "    .dataframe thead th {\n",
       "        text-align: right;\n",
       "    }\n",
       "</style>\n",
       "<table border=\"1\" class=\"dataframe\">\n",
       "  <thead>\n",
       "    <tr style=\"text-align: right;\">\n",
       "      <th></th>\n",
       "      <th>Poss</th>\n",
       "      <th>Prog</th>\n",
       "      <th>KP</th>\n",
       "      <th>Pressures_Press</th>\n",
       "      <th>Pressures_%</th>\n",
       "    </tr>\n",
       "  </thead>\n",
       "  <tbody>\n",
       "    <tr>\n",
       "      <th>Celta</th>\n",
       "      <td>55.6</td>\n",
       "      <td>30.53</td>\n",
       "      <td>7.21</td>\n",
       "      <td>167.42</td>\n",
       "      <td>31.2</td>\n",
       "    </tr>\n",
       "    <tr>\n",
       "      <th>Getafe</th>\n",
       "      <td>41.2</td>\n",
       "      <td>21.95</td>\n",
       "      <td>7.42</td>\n",
       "      <td>159.16</td>\n",
       "      <td>27.1</td>\n",
       "    </tr>\n",
       "    <tr>\n",
       "      <th>Athletic</th>\n",
       "      <td>48.1</td>\n",
       "      <td>35.42</td>\n",
       "      <td>8.95</td>\n",
       "      <td>143.66</td>\n",
       "      <td>27.9</td>\n",
       "    </tr>\n",
       "  </tbody>\n",
       "</table>\n",
       "</div>"
      ],
      "text/plain": [
       "          Poss   Prog    KP  Pressures_Press  Pressures_%\n",
       "Celta     55.6  30.53  7.21           167.42         31.2\n",
       "Getafe    41.2  21.95  7.42           159.16         27.1\n",
       "Athletic  48.1  35.42  8.95           143.66         27.9"
      ]
     },
     "execution_count": 13,
     "metadata": {},
     "output_type": "execute_result"
    }
   ],
   "source": [
    "df = pd.DataFrame(ar,index=[i.title() for i in list_teams],columns=cols)\n",
    "df"
   ]
  },
  {
   "cell_type": "markdown",
   "id": "martial-devon",
   "metadata": {},
   "source": [
    "#### 8.- Sobre este dataframe, crea una nueva columna con el nombre de la liga. Etiquétala correctamente."
   ]
  },
  {
   "cell_type": "code",
   "execution_count": 14,
   "id": "dried-dutch",
   "metadata": {},
   "outputs": [
    {
     "data": {
      "text/html": [
       "<div>\n",
       "<style scoped>\n",
       "    .dataframe tbody tr th:only-of-type {\n",
       "        vertical-align: middle;\n",
       "    }\n",
       "\n",
       "    .dataframe tbody tr th {\n",
       "        vertical-align: top;\n",
       "    }\n",
       "\n",
       "    .dataframe thead th {\n",
       "        text-align: right;\n",
       "    }\n",
       "</style>\n",
       "<table border=\"1\" class=\"dataframe\">\n",
       "  <thead>\n",
       "    <tr style=\"text-align: right;\">\n",
       "      <th></th>\n",
       "      <th>Poss</th>\n",
       "      <th>Prog</th>\n",
       "      <th>KP</th>\n",
       "      <th>Pressures_Press</th>\n",
       "      <th>Pressures_%</th>\n",
       "      <th>Liga</th>\n",
       "    </tr>\n",
       "  </thead>\n",
       "  <tbody>\n",
       "    <tr>\n",
       "      <th>Celta</th>\n",
       "      <td>55.6</td>\n",
       "      <td>30.53</td>\n",
       "      <td>7.21</td>\n",
       "      <td>167.42</td>\n",
       "      <td>31.2</td>\n",
       "      <td>es La Liga</td>\n",
       "    </tr>\n",
       "    <tr>\n",
       "      <th>Getafe</th>\n",
       "      <td>41.2</td>\n",
       "      <td>21.95</td>\n",
       "      <td>7.42</td>\n",
       "      <td>159.16</td>\n",
       "      <td>27.1</td>\n",
       "      <td>es La Liga</td>\n",
       "    </tr>\n",
       "    <tr>\n",
       "      <th>Athletic</th>\n",
       "      <td>48.1</td>\n",
       "      <td>35.42</td>\n",
       "      <td>8.95</td>\n",
       "      <td>143.66</td>\n",
       "      <td>27.9</td>\n",
       "      <td>es La Liga</td>\n",
       "    </tr>\n",
       "  </tbody>\n",
       "</table>\n",
       "</div>"
      ],
      "text/plain": [
       "          Poss   Prog    KP  Pressures_Press  Pressures_%        Liga\n",
       "Celta     55.6  30.53  7.21           167.42         31.2  es La Liga\n",
       "Getafe    41.2  21.95  7.42           159.16         27.1  es La Liga\n",
       "Athletic  48.1  35.42  8.95           143.66         27.9  es La Liga"
      ]
     },
     "execution_count": 14,
     "metadata": {},
     "output_type": "execute_result"
    }
   ],
   "source": [
    "df['Liga'] = celta['Comp'].values[0]\n",
    "df"
   ]
  },
  {
   "cell_type": "markdown",
   "id": "configured-chester",
   "metadata": {},
   "source": [
    "#### 9.- Para los tres equipos seleccionados, define una nueva estructura de datos que almacene sus goles en las 10 primeras jornadas de liga. Represéntalo en dos visualizaciones mediante un gráfico de lineas y ponle un título a la imagen."
   ]
  },
  {
   "cell_type": "code",
   "execution_count": 15,
   "id": "923f5225",
   "metadata": {},
   "outputs": [],
   "source": [
    "df['Squad'] = ['Celta Vigo','Getafe','Athletic Club']"
   ]
  },
  {
   "cell_type": "code",
   "execution_count": 16,
   "id": "boring-circumstances",
   "metadata": {},
   "outputs": [
    {
     "data": {
      "text/html": [
       "<div>\n",
       "<style scoped>\n",
       "    .dataframe tbody tr th:only-of-type {\n",
       "        vertical-align: middle;\n",
       "    }\n",
       "\n",
       "    .dataframe tbody tr th {\n",
       "        vertical-align: top;\n",
       "    }\n",
       "\n",
       "    .dataframe thead th {\n",
       "        text-align: right;\n",
       "    }\n",
       "</style>\n",
       "<table border=\"1\" class=\"dataframe\">\n",
       "  <thead>\n",
       "    <tr style=\"text-align: right;\">\n",
       "      <th></th>\n",
       "      <th>Poss</th>\n",
       "      <th>Prog</th>\n",
       "      <th>KP</th>\n",
       "      <th>Pressures_Press</th>\n",
       "      <th>Pressures_%</th>\n",
       "      <th>Liga</th>\n",
       "      <th>Squad</th>\n",
       "      <th>idx</th>\n",
       "    </tr>\n",
       "  </thead>\n",
       "  <tbody>\n",
       "    <tr>\n",
       "      <th>0</th>\n",
       "      <td>55.6</td>\n",
       "      <td>30.53</td>\n",
       "      <td>7.21</td>\n",
       "      <td>167.42</td>\n",
       "      <td>31.2</td>\n",
       "      <td>es La Liga</td>\n",
       "      <td>Celta Vigo</td>\n",
       "      <td>f25da7fb</td>\n",
       "    </tr>\n",
       "    <tr>\n",
       "      <th>1</th>\n",
       "      <td>41.2</td>\n",
       "      <td>21.95</td>\n",
       "      <td>7.42</td>\n",
       "      <td>159.16</td>\n",
       "      <td>27.1</td>\n",
       "      <td>es La Liga</td>\n",
       "      <td>Getafe</td>\n",
       "      <td>7848bd64</td>\n",
       "    </tr>\n",
       "    <tr>\n",
       "      <th>2</th>\n",
       "      <td>48.1</td>\n",
       "      <td>35.42</td>\n",
       "      <td>8.95</td>\n",
       "      <td>143.66</td>\n",
       "      <td>27.9</td>\n",
       "      <td>es La Liga</td>\n",
       "      <td>Athletic Club</td>\n",
       "      <td>2b390eca</td>\n",
       "    </tr>\n",
       "  </tbody>\n",
       "</table>\n",
       "</div>"
      ],
      "text/plain": [
       "   Poss   Prog    KP  Pressures_Press  Pressures_%        Liga          Squad  \\\n",
       "0  55.6  30.53  7.21           167.42         31.2  es La Liga     Celta Vigo   \n",
       "1  41.2  21.95  7.42           159.16         27.1  es La Liga         Getafe   \n",
       "2  48.1  35.42  8.95           143.66         27.9  es La Liga  Athletic Club   \n",
       "\n",
       "        idx  \n",
       "0  f25da7fb  \n",
       "1  7848bd64  \n",
       "2  2b390eca  "
      ]
     },
     "execution_count": 16,
     "metadata": {},
     "output_type": "execute_result"
    }
   ],
   "source": [
    "df = pd.merge(df,fbref[['Squad','idx']],how='left',on='Squad')\n",
    "df"
   ]
  },
  {
   "cell_type": "code",
   "execution_count": 17,
   "id": "346aeb62",
   "metadata": {},
   "outputs": [],
   "source": [
    "df['Squad2'] = df.Squad.str.replace(' ','-')"
   ]
  },
  {
   "cell_type": "code",
   "execution_count": 18,
   "id": "c3506307",
   "metadata": {},
   "outputs": [],
   "source": [
    "team=[]\n",
    "goals = []\n",
    "for i,j in df.iterrows():\n",
    "    k = pd.read_html('https://fbref.com/en/squads/{}/{}-Stats'.format(j['idx'],j['Squad2']))[1]\n",
    "    k= list(k['GF'][:10])\n",
    "    goals.append(k)\n",
    "    team.append(j['Squad'])"
   ]
  },
  {
   "cell_type": "code",
   "execution_count": 19,
   "id": "dcec92e5",
   "metadata": {},
   "outputs": [],
   "source": [
    "goals = pd.DataFrame(goals,index=team,columns=['J{}'.format(i) for i in range(1,11)]).T"
   ]
  },
  {
   "cell_type": "code",
   "execution_count": 20,
   "id": "75d559be",
   "metadata": {},
   "outputs": [
    {
     "data": {
      "text/html": [
       "<div>\n",
       "<style scoped>\n",
       "    .dataframe tbody tr th:only-of-type {\n",
       "        vertical-align: middle;\n",
       "    }\n",
       "\n",
       "    .dataframe tbody tr th {\n",
       "        vertical-align: top;\n",
       "    }\n",
       "\n",
       "    .dataframe thead th {\n",
       "        text-align: right;\n",
       "    }\n",
       "</style>\n",
       "<table border=\"1\" class=\"dataframe\">\n",
       "  <thead>\n",
       "    <tr style=\"text-align: right;\">\n",
       "      <th></th>\n",
       "      <th>Celta Vigo</th>\n",
       "      <th>Getafe</th>\n",
       "      <th>Athletic Club</th>\n",
       "    </tr>\n",
       "  </thead>\n",
       "  <tbody>\n",
       "    <tr>\n",
       "      <th>J1</th>\n",
       "      <td>2.0</td>\n",
       "      <td>0.0</td>\n",
       "      <td>0.0</td>\n",
       "    </tr>\n",
       "    <tr>\n",
       "      <th>J2</th>\n",
       "      <td>1.0</td>\n",
       "      <td>1.0</td>\n",
       "      <td>1.0</td>\n",
       "    </tr>\n",
       "    <tr>\n",
       "      <th>J3</th>\n",
       "      <td>1.0</td>\n",
       "      <td>0.0</td>\n",
       "      <td>4.0</td>\n",
       "    </tr>\n",
       "    <tr>\n",
       "      <th>J4</th>\n",
       "      <td>3.0</td>\n",
       "      <td>1.0</td>\n",
       "      <td>0.0</td>\n",
       "    </tr>\n",
       "    <tr>\n",
       "      <th>J5</th>\n",
       "      <td>1.0</td>\n",
       "      <td>2.0</td>\n",
       "      <td>4.0</td>\n",
       "    </tr>\n",
       "    <tr>\n",
       "      <th>J6</th>\n",
       "      <td>0.0</td>\n",
       "      <td>2.0</td>\n",
       "      <td>3.0</td>\n",
       "    </tr>\n",
       "    <tr>\n",
       "      <th>J7</th>\n",
       "      <td>1.0</td>\n",
       "      <td>2.0</td>\n",
       "      <td>4.0</td>\n",
       "    </tr>\n",
       "    <tr>\n",
       "      <th>J8</th>\n",
       "      <td>0.0</td>\n",
       "      <td>0.0</td>\n",
       "      <td>1.0</td>\n",
       "    </tr>\n",
       "    <tr>\n",
       "      <th>J9</th>\n",
       "      <td>1.0</td>\n",
       "      <td>0.0</td>\n",
       "      <td>0.0</td>\n",
       "    </tr>\n",
       "    <tr>\n",
       "      <th>J10</th>\n",
       "      <td>1.0</td>\n",
       "      <td>2.0</td>\n",
       "      <td>2.0</td>\n",
       "    </tr>\n",
       "  </tbody>\n",
       "</table>\n",
       "</div>"
      ],
      "text/plain": [
       "     Celta Vigo  Getafe  Athletic Club\n",
       "J1          2.0     0.0            0.0\n",
       "J2          1.0     1.0            1.0\n",
       "J3          1.0     0.0            4.0\n",
       "J4          3.0     1.0            0.0\n",
       "J5          1.0     2.0            4.0\n",
       "J6          0.0     2.0            3.0\n",
       "J7          1.0     2.0            4.0\n",
       "J8          0.0     0.0            1.0\n",
       "J9          1.0     0.0            0.0\n",
       "J10         1.0     2.0            2.0"
      ]
     },
     "execution_count": 20,
     "metadata": {},
     "output_type": "execute_result"
    }
   ],
   "source": [
    "goals"
   ]
  },
  {
   "cell_type": "code",
   "execution_count": 21,
   "id": "99704b1c",
   "metadata": {},
   "outputs": [
    {
     "data": {
      "image/png": "[encoded data removed]",
      "text/plain": [
       "<Figure size 432x288 with 1 Axes>"
      ]
     },
     "metadata": {
      "needs_background": "light"
     },
     "output_type": "display_data"
    }
   ],
   "source": [
    "for i in list(goals.columns):\n",
    "    plt.plot(goals[i],label=i)\n",
    "plt.legend()\n",
    "plt.ylabel('Goles')\n",
    "plt.title('Goles anotados en las 10 primeras jornadas - LaLiga 21-22')\n",
    "plt.savefig(img_dir+'/Line1.png',dpi=200)"
   ]
  },
  {
   "cell_type": "markdown",
   "id": "adapted-laptop",
   "metadata": {},
   "source": [
    "#### 10.- Representa el paso anterior en un gráfico de barras y exporta el resultado en una imagen."
   ]
  },
  {
   "cell_type": "code",
   "execution_count": 22,
   "id": "deadly-telescope",
   "metadata": {},
   "outputs": [
    {
     "data": {
      "image/png": "[encoded data removed]",
      "text/plain": [
       "<Figure size 720x216 with 1 Axes>"
      ]
     },
     "metadata": {
      "needs_background": "light"
     },
     "output_type": "display_data"
    }
   ],
   "source": [
    "X_axis = np.arange(len(goals.index))\n",
    "plt.figure(figsize=(10,3))\n",
    "plt.bar(X_axis - 0.4, goals['Celta Vigo'], 0.3, label = 'Celta')\n",
    "plt.bar(X_axis -0.1, goals['Getafe'], 0.3, label = 'Getafe')\n",
    "plt.bar(X_axis + 0.3, goals['Athletic Club'], 0.3, label = 'Athletic')\n",
    "plt.xticks = goals.index\n",
    "plt.legend()\n",
    "plt.savefig(img_dir+'/Bar1.png',dpi=200)"
   ]
  },
  {
   "cell_type": "code",
   "execution_count": 23,
   "id": "together-emphasis",
   "metadata": {},
   "outputs": [
    {
     "data": {
      "image/png": "[encoded data removed]",
      "text/plain": [
       "<Figure size 576x576 with 3 Axes>"
      ]
     },
     "metadata": {
      "needs_background": "light"
     },
     "output_type": "display_data"
    }
   ],
   "source": [
    "fig,(ax1,ax2,ax3)=plt.subplots(3,1,figsize=[8,8],sharey=True)\n",
    "ax1.bar(X_axis, goals['Celta Vigo'], 0.3)\n",
    "ax1.set_title('Celta')\n",
    "ax2.bar(X_axis, goals['Getafe'], 0.3)\n",
    "ax2.set_title('Getafe')\n",
    "ax3.bar(X_axis, goals['Athletic Club'], 0.3)\n",
    "ax3.set_title('Athletic')\n",
    "fig.tight_layout()\n",
    "plt.savefig(img_dir+'/Subplots.png')\n",
    "plt.show();"
   ]
  }
 ],
 "metadata": {
  "kernelspec": {
   "display_name": "Python 3 (ipykernel)",
   "language": "python",
   "name": "python3"
  },
  "language_info": {
   "codemirror_mode": {
    "name": "ipython",
    "version": 3
   },
   "file_extension": ".py",
   "mimetype": "text/x-python",
   "name": "python",
   "nbconvert_exporter": "python",
   "pygments_lexer": "ipython3",
   "version": "3.8.5"
  }
 },
 "nbformat": 4,
 "nbformat_minor": 5
}
