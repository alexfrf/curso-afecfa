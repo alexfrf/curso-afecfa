{
 "cells": [
  {
   "cell_type": "markdown",
   "id": "diagnostic-newsletter",
   "metadata": {},
   "source": [
    "## Ejercicio 1: Introducción a Python"
   ]
  },
  {
   "cell_type": "code",
   "execution_count": 1,
   "id": "701d4d05",
   "metadata": {},
   "outputs": [],
   "source": [
    "import pandas as pd\n",
    "import os\n",
    "from pathlib import Path"
   ]
  },
  {
   "cell_type": "code",
   "execution_count": 2,
   "id": "354adc7d",
   "metadata": {},
   "outputs": [],
   "source": [
    "base_dir = os.path.join('',Path(os.getcwd()).parents[1])\n",
    "data_dir = os.path.join(base_dir, 'Data/Comps')"
   ]
  },
  {
   "cell_type": "code",
   "execution_count": 3,
   "id": "b0d96c4f",
   "metadata": {},
   "outputs": [],
   "source": [
    "df = pd.read_excel(data_dir+'/08_08_2022_field_players_tournament_Spain.SegundaDivision.xlsx')"
   ]
  },
  {
   "cell_type": "code",
   "execution_count": 4,
   "id": "5ca6419c",
   "metadata": {},
   "outputs": [],
   "source": [
    "df.rename({'Unnamed: 0':'ID','Unnamed: 1':'Jugador'},axis=1,inplace=True)"
   ]
  },
  {
   "cell_type": "code",
   "execution_count": 5,
   "id": "28c2364c",
   "metadata": {},
   "outputs": [],
   "source": [
    "numcols= list(df.columns[5:74])\n",
    "numcols.remove('Posición')"
   ]
  },
  {
   "cell_type": "code",
   "execution_count": 6,
   "id": "307d1cf4",
   "metadata": {
    "scrolled": true
   },
   "outputs": [],
   "source": [
    "for i in df.columns:\n",
    "    if i=='Jugador' or i=='Índice InStat':\n",
    "        df[i]=df[i].astype(str)\n",
    "    elif i in numcols:\n",
    "        df[i]=df[i].astype(str)\n",
    "        df[i]=df[i].str.replace('-','0')\n",
    "        df[i]=df[i].str.replace('%','')\n",
    "        df[i] = df[i].astype(float)"
   ]
  },
  {
   "cell_type": "markdown",
   "id": "artificial-biotechnology",
   "metadata": {},
   "source": [
    "#### 1.- Elige un jugador de la Liga Smartbank y tres métricas de rendimiento con valor acumulado. Asigna cada valor a una variable y muestrala por pantalla.\n",
    "\n",
    "Por ejemplo: Leo Messi, 15 goles, 12 asistencias y 88% pases completados"
   ]
  },
  {
   "cell_type": "code",
   "execution_count": 7,
   "id": "exclusive-color",
   "metadata": {},
   "outputs": [
    {
     "data": {
      "text/html": [
       "<div>\n",
       "<style scoped>\n",
       "    .dataframe tbody tr th:only-of-type {\n",
       "        vertical-align: middle;\n",
       "    }\n",
       "\n",
       "    .dataframe tbody tr th {\n",
       "        vertical-align: top;\n",
       "    }\n",
       "\n",
       "    .dataframe thead th {\n",
       "        text-align: right;\n",
       "    }\n",
       "</style>\n",
       "<table border=\"1\" class=\"dataframe\">\n",
       "  <thead>\n",
       "    <tr style=\"text-align: right;\">\n",
       "      <th></th>\n",
       "      <th>ID</th>\n",
       "      <th>Jugador</th>\n",
       "      <th>Índice InStat</th>\n",
       "      <th>Partidos jugados</th>\n",
       "      <th>Minutos jugados</th>\n",
       "      <th>Starting lineup appearances</th>\n",
       "      <th>Jugador sustituido</th>\n",
       "      <th>De sustitucion</th>\n",
       "      <th>Goles</th>\n",
       "      <th>Asistencias</th>\n",
       "      <th>...</th>\n",
       "      <th>Defensive xG per shot</th>\n",
       "      <th>Nacionalidad</th>\n",
       "      <th>Equipo</th>\n",
       "      <th>Selección nacional</th>\n",
       "      <th>Edad</th>\n",
       "      <th>Altura</th>\n",
       "      <th>Peso</th>\n",
       "      <th>Pierna</th>\n",
       "      <th>National team (last match date, mm.yy)</th>\n",
       "      <th>Youth national team (last match date, mm.yy)</th>\n",
       "    </tr>\n",
       "  </thead>\n",
       "  <tbody>\n",
       "    <tr>\n",
       "      <th>284</th>\n",
       "      <td>7</td>\n",
       "      <td>Cristhian Stuani</td>\n",
       "      <td>199</td>\n",
       "      <td>41</td>\n",
       "      <td>3140</td>\n",
       "      <td>30.0</td>\n",
       "      <td>12.0</td>\n",
       "      <td>11.0</td>\n",
       "      <td>24.0</td>\n",
       "      <td>3.0</td>\n",
       "      <td>...</td>\n",
       "      <td>0.11</td>\n",
       "      <td>Uruguay, Italy</td>\n",
       "      <td>Girona</td>\n",
       "      <td>-</td>\n",
       "      <td>35</td>\n",
       "      <td>184</td>\n",
       "      <td>76</td>\n",
       "      <td>Derechа</td>\n",
       "      <td>11.19</td>\n",
       "      <td>-</td>\n",
       "    </tr>\n",
       "  </tbody>\n",
       "</table>\n",
       "<p>1 rows × 83 columns</p>\n",
       "</div>"
      ],
      "text/plain": [
       "     ID           Jugador Índice InStat  Partidos jugados  Minutos jugados  \\\n",
       "284   7  Cristhian Stuani           199                41             3140   \n",
       "\n",
       "     Starting lineup appearances  Jugador sustituido  De sustitucion  Goles  \\\n",
       "284                         30.0                12.0            11.0   24.0   \n",
       "\n",
       "     Asistencias  ...  Defensive xG per shot    Nacionalidad  Equipo  \\\n",
       "284          3.0  ...                   0.11  Uruguay, Italy  Girona   \n",
       "\n",
       "     Selección nacional  Edad  Altura  Peso   Pierna  \\\n",
       "284                   -    35     184    76  Derechа   \n",
       "\n",
       "     National team (last match date, mm.yy)  \\\n",
       "284                                   11.19   \n",
       "\n",
       "     Youth national team (last match date, mm.yy)  \n",
       "284                                             -  \n",
       "\n",
       "[1 rows x 83 columns]"
      ]
     },
     "execution_count": 7,
     "metadata": {},
     "output_type": "execute_result"
    }
   ],
   "source": [
    "df = df.sort_values(by='Goles',ascending=False)\n",
    "pl = df.head(1)\n",
    "pl"
   ]
  },
  {
   "cell_type": "code",
   "execution_count": 8,
   "id": "1297c03c",
   "metadata": {},
   "outputs": [],
   "source": [
    "player = pl.Jugador.values[0]\n",
    "goals = int(pl.Goles.values[0])\n",
    "asis = int(pl.Asistencias.values[0])\n",
    "xgs = pl['xG per shot'].values[0]"
   ]
  },
  {
   "cell_type": "code",
   "execution_count": 9,
   "id": "b6eb1cb5",
   "metadata": {},
   "outputs": [
    {
     "data": {
      "text/plain": [
       "'Cristhian Stuani - 24 goles, 3 asistencias, 0.27 xG por disparo'"
      ]
     },
     "execution_count": 9,
     "metadata": {},
     "output_type": "execute_result"
    }
   ],
   "source": [
    "'{} - {} goles, {} asistencias, {:.2f} xG por disparo'.format(player,goals,asis,xgs)"
   ]
  },
  {
   "cell_type": "markdown",
   "id": "alike-planning",
   "metadata": {},
   "source": [
    "#### 2.- Indica por pantalla el tipo de dato de cada variable."
   ]
  },
  {
   "cell_type": "code",
   "execution_count": 10,
   "id": "tested-yemen",
   "metadata": {},
   "outputs": [
    {
     "name": "stdout",
     "output_type": "stream",
     "text": [
      "<class 'pandas.core.frame.DataFrame'>\n",
      "Int64Index: 1 entries, 284 to 284\n",
      "Data columns (total 83 columns):\n",
      " #   Column                                             Non-Null Count  Dtype  \n",
      "---  ------                                             --------------  -----  \n",
      " 0   ID                                                 1 non-null      int64  \n",
      " 1   Jugador                                            1 non-null      object \n",
      " 2   Índice InStat                                      1 non-null      object \n",
      " 3   Partidos jugados                                   1 non-null      int64  \n",
      " 4   Minutos jugados                                    1 non-null      int64  \n",
      " 5   Starting lineup appearances                        1 non-null      float64\n",
      " 6   Jugador sustituido                                 1 non-null      float64\n",
      " 7   De sustitucion                                     1 non-null      float64\n",
      " 8   Goles                                              1 non-null      float64\n",
      " 9   Asistencias                                        1 non-null      float64\n",
      " 10  Fueras de juego                                    1 non-null      float64\n",
      " 11  Tarjetas amarillas                                 1 non-null      float64\n",
      " 12  Tarjetas rojas                                     1 non-null      float64\n",
      " 13  Tiros                                              1 non-null      float64\n",
      " 14  Tiros a portería                                   1 non-null      float64\n",
      " 15  Penalti                                            1 non-null      float64\n",
      " 16  Penaltis marcados                                  1 non-null      float64\n",
      " 17  % de penaltis marcados                             1 non-null      float64\n",
      " 18  Pases                                              1 non-null      float64\n",
      " 19  % de efectividad de pases                          1 non-null      float64\n",
      " 20  Pases de finalización                              1 non-null      float64\n",
      " 21  Centros                                            1 non-null      float64\n",
      " 22  % de efectividad de los centros                    1 non-null      float64\n",
      " 23  Balones perdidos                                   1 non-null      float64\n",
      " 24  Pérdidas en campo propio                           1 non-null      float64\n",
      " 25  Balones recuperados                                1 non-null      float64\n",
      " 26  Recuperaciones en campo rival                      1 non-null      float64\n",
      " 27  Goles esperados                                    1 non-null      float64\n",
      " 28  Disputas                                           1 non-null      float64\n",
      " 29  % disputas ganadas                                 1 non-null      float64\n",
      " 30  Disputas en ataque                                 1 non-null      float64\n",
      " 31  Disputas aéreas                                    1 non-null      float64\n",
      " 32  % disputas por arriba ganadas                      1 non-null      float64\n",
      " 33  Regates                                            1 non-null      float64\n",
      " 34  Entradas                                           1 non-null      float64\n",
      " 35  Interceptaciones                                   1 non-null      float64\n",
      " 36  Rechaces                                           1 non-null      float64\n",
      " 37  Posición                                           1 non-null      object \n",
      " 38  Jugadas de gol                                     1 non-null      float64\n",
      " 39  Oportunidades de gol con éxito                     1 non-null      float64\n",
      " 40  Ocasiones de gol, % conversión                     1 non-null      float64\n",
      " 41  Ocasiones generadas                                1 non-null      float64\n",
      " 42  Faltas                                             1 non-null      float64\n",
      " 43  Faltas recibidas                                   1 non-null      float64\n",
      " 44  Acciones totales                                   1 non-null      float64\n",
      " 45  Acciones efectivas                                 1 non-null      float64\n",
      " 46  % acciones efectivas                               1 non-null      float64\n",
      " 47  % de efectividad en lanzamientos                   1 non-null      float64\n",
      " 48  Tiros fuera                                        1 non-null      float64\n",
      " 49  Tiros interceptados                                1 non-null      float64\n",
      " 50  Tiros en el poste / palo                           1 non-null      float64\n",
      " 51  Pases efectivos                                    1 non-null      float64\n",
      " 52  Pases de finalización efectivos                    1 non-null      float64\n",
      " 53  Centros efectivos                                  1 non-null      float64\n",
      " 54  Disputas ganadas                                   1 non-null      float64\n",
      " 55  Disputas defensivas                                1 non-null      float64\n",
      " 56  Disputas defensivas ganadas                        1 non-null      float64\n",
      " 57  % disputas defensivas ganadas                      1 non-null      float64\n",
      " 58  Disputas en ataque ganadas                         1 non-null      float64\n",
      " 59  % disputas en ataque ganadas                       1 non-null      float64\n",
      " 60  Disputas por arriba ganadas                        1 non-null      float64\n",
      " 61  Regates efectivos                                  1 non-null      float64\n",
      " 62  Regates con éxito, %                               1 non-null      float64\n",
      " 63  Entradas efectivas                                 1 non-null      float64\n",
      " 64  Robos de balón con éxito, %                        1 non-null      float64\n",
      " 65  Expected assists                                   1 non-null      float64\n",
      " 66  xG per shot                                        1 non-null      float64\n",
      " 67  xG per goal                                        1 non-null      float64\n",
      " 68  xG conversion                                      1 non-null      float64\n",
      " 69  xG with a player on                                1 non-null      float64\n",
      " 70  Opponent's xG with a player on                     1 non-null      float64\n",
      " 71  Net xG (xG player on - opp. team's xG)             1 non-null      float64\n",
      " 72  Defensive xG (xG of shots made by guarded player)  1 non-null      float64\n",
      " 73  Defensive xG per shot                              1 non-null      float64\n",
      " 74  Nacionalidad                                       1 non-null      object \n",
      " 75  Equipo                                             1 non-null      object \n",
      " 76  Selección nacional                                 1 non-null      object \n",
      " 77  Edad                                               1 non-null      object \n",
      " 78  Altura                                             1 non-null      object \n",
      " 79  Peso                                               1 non-null      object \n",
      " 80  Pierna                                             1 non-null      object \n",
      " 81  National team (last match date, mm.yy)             1 non-null      object \n",
      " 82  Youth national team (last match date, mm.yy)       1 non-null      object \n",
      "dtypes: float64(68), int64(3), object(12)\n",
      "memory usage: 672.0+ bytes\n"
     ]
    }
   ],
   "source": [
    "pl.info()"
   ]
  },
  {
   "cell_type": "markdown",
   "id": "bottom-negotiation",
   "metadata": {},
   "source": [
    "#### 3. Muestra los primeros 5 caracteres del nombre del jugador."
   ]
  },
  {
   "cell_type": "code",
   "execution_count": 11,
   "id": "liked-worth",
   "metadata": {},
   "outputs": [
    {
     "data": {
      "text/plain": [
       "'Crist'"
      ]
     },
     "execution_count": 11,
     "metadata": {},
     "output_type": "execute_result"
    }
   ],
   "source": [
    "pl['Jugador'].str[:5].values[0]"
   ]
  },
  {
   "cell_type": "markdown",
   "id": "productive-credits",
   "metadata": {},
   "source": [
    "#### 4. Crea una nueva variable y, sobre esa nueva variable, concatena el nombre del equipo."
   ]
  },
  {
   "cell_type": "code",
   "execution_count": 12,
   "id": "complicated-workshop",
   "metadata": {},
   "outputs": [
    {
     "data": {
      "text/plain": [
       "'Girona'"
      ]
     },
     "execution_count": 12,
     "metadata": {},
     "output_type": "execute_result"
    }
   ],
   "source": [
    "concat = pl['Equipo'].values[0]\n",
    "concat"
   ]
  },
  {
   "cell_type": "markdown",
   "id": "encouraging-joint",
   "metadata": {},
   "source": [
    "#### 5.- Multiplica por 5 la primera métrica, divide por 10 la segunda y súmale 1 a la tercera. Luego, súmalo todo."
   ]
  },
  {
   "cell_type": "code",
   "execution_count": 13,
   "id": "silver-payday",
   "metadata": {},
   "outputs": [
    {
     "data": {
      "text/plain": [
       "121.57"
      ]
     },
     "execution_count": 13,
     "metadata": {},
     "output_type": "execute_result"
    }
   ],
   "source": [
    "suma = goals*5 + asis/10 + xgs+1\n",
    "suma"
   ]
  },
  {
   "cell_type": "markdown",
   "id": "warming-motorcycle",
   "metadata": {},
   "source": [
    "#### 6.- Define una sentencia condicional que compruebe si el tamaño de la variable del nombre de jugador es superior a 10 caracteres. Si es superior, muestra por pantalla el texto Sí y, si es inferior, muestra no."
   ]
  },
  {
   "cell_type": "code",
   "execution_count": 14,
   "id": "attended-making",
   "metadata": {},
   "outputs": [
    {
     "name": "stdout",
     "output_type": "stream",
     "text": [
      "No\n"
     ]
    }
   ],
   "source": [
    "if len(pl.Jugador)>10:\n",
    "    print('Sí')\n",
    "else:\n",
    "    print('No')"
   ]
  },
  {
   "cell_type": "markdown",
   "id": "recreational-python",
   "metadata": {},
   "source": [
    "#### 7.- Crea una variable e inicializala a 0. Luego, implemente un bucle que incremente en una unidad el valor de esta variable inicializada a 0 hasta que ésta llegue a 15."
   ]
  },
  {
   "cell_type": "code",
   "execution_count": 15,
   "id": "accepted-completion",
   "metadata": {},
   "outputs": [
    {
     "name": "stdout",
     "output_type": "stream",
     "text": [
      "0\n",
      "1\n",
      "2\n",
      "3\n",
      "4\n",
      "5\n",
      "6\n",
      "7\n",
      "8\n",
      "9\n",
      "10\n",
      "11\n",
      "12\n",
      "13\n",
      "14\n"
     ]
    }
   ],
   "source": [
    "var = 0\n",
    "while var<15:\n",
    "    print(var)\n",
    "    var+=1"
   ]
  },
  {
   "cell_type": "code",
   "execution_count": 16,
   "id": "fde036b3",
   "metadata": {},
   "outputs": [
    {
     "data": {
      "text/plain": [
       "15"
      ]
     },
     "execution_count": 16,
     "metadata": {},
     "output_type": "execute_result"
    }
   ],
   "source": [
    "var"
   ]
  },
  {
   "cell_type": "markdown",
   "id": "martial-devon",
   "metadata": {},
   "source": [
    "#### 8.- Define una lista con 10 jugadores al azar."
   ]
  },
  {
   "cell_type": "code",
   "execution_count": 17,
   "id": "97e0b7d9",
   "metadata": {},
   "outputs": [],
   "source": [
    "from random import randint\n",
    "list_=[]\n",
    "for i in range(10):\n",
    "    value = randint(0,df.shape[0])\n",
    "    list_.append(df.Jugador[value])"
   ]
  },
  {
   "cell_type": "code",
   "execution_count": 18,
   "id": "dried-dutch",
   "metadata": {},
   "outputs": [
    {
     "data": {
      "text/plain": [
       "['Sergi Palencia',\n",
       " 'Pablo Perez',\n",
       " 'B. Cufré',\n",
       " 'Sebas',\n",
       " 'Hicham Boussefiane',\n",
       " 'Raul Navarro del Rio',\n",
       " 'Luciano Gaston Vega Albornoz',\n",
       " 'Valery Fernandez Estrada',\n",
       " 'Ale García',\n",
       " 'Timor']"
      ]
     },
     "execution_count": 18,
     "metadata": {},
     "output_type": "execute_result"
    }
   ],
   "source": [
    "list_"
   ]
  },
  {
   "cell_type": "markdown",
   "id": "configured-chester",
   "metadata": {},
   "source": [
    "#### 9.- Convierte todos los elementos de la lista a mayúsculas siempre y cuando cada elemento supere los 8 caracteres."
   ]
  },
  {
   "cell_type": "code",
   "execution_count": 19,
   "id": "boring-circumstances",
   "metadata": {},
   "outputs": [],
   "source": [
    "for i in range(len(list_)):\n",
    "    if len(list_[i])>8:\n",
    "        list_[i] = list_[i].upper()\n",
    "    else:\n",
    "        pass"
   ]
  },
  {
   "cell_type": "code",
   "execution_count": 20,
   "id": "7faa75ee",
   "metadata": {},
   "outputs": [
    {
     "data": {
      "text/plain": [
       "['SERGI PALENCIA',\n",
       " 'PABLO PEREZ',\n",
       " 'B. Cufré',\n",
       " 'Sebas',\n",
       " 'HICHAM BOUSSEFIANE',\n",
       " 'RAUL NAVARRO DEL RIO',\n",
       " 'LUCIANO GASTON VEGA ALBORNOZ',\n",
       " 'VALERY FERNANDEZ ESTRADA',\n",
       " 'ALE GARCÍA',\n",
       " 'Timor']"
      ]
     },
     "execution_count": 20,
     "metadata": {},
     "output_type": "execute_result"
    }
   ],
   "source": [
    "list_"
   ]
  },
  {
   "cell_type": "markdown",
   "id": "adapted-laptop",
   "metadata": {},
   "source": [
    "#### 10.- Define una función que reciba por parámetro dos métricas y las sume. Muestra el resultado por pantalla."
   ]
  },
  {
   "cell_type": "code",
   "execution_count": 21,
   "id": "deadly-telescope",
   "metadata": {},
   "outputs": [
    {
     "data": {
      "text/plain": [
       "Jugador\n",
       "Cristhian Stuani            27.0\n",
       "Borja                       24.0\n",
       "Stoico                      27.0\n",
       "Shon Zalman Weissman        23.0\n",
       "Ruben Castro                27.0\n",
       "                            ... \n",
       "Fran Garcia                  0.0\n",
       "Ivan Salvador                2.0\n",
       "Juanma                       0.0\n",
       "J. Igbekeme                  0.0\n",
       "Jose Manuel Nicolas Ayen     0.0\n",
       "Length: 618, dtype: float64"
      ]
     },
     "execution_count": 21,
     "metadata": {},
     "output_type": "execute_result"
    }
   ],
   "source": [
    "def new_func(m1,m2):\n",
    "    data = df.set_index('Jugador')\n",
    "    res = data[m1]+data[m2]\n",
    "    return res\n",
    "\n",
    "new_func('Goles','Asistencias')"
   ]
  },
  {
   "cell_type": "markdown",
   "id": "ignored-hacker",
   "metadata": {},
   "source": [
    "#### Opcional: Define una función que reciba por parámetro una métrica y la estandarice a 90 minutos. Muestra el resultado por pantalla para cada métrica."
   ]
  },
  {
   "cell_type": "code",
   "execution_count": 22,
   "id": "together-emphasis",
   "metadata": {},
   "outputs": [],
   "source": [
    "import warnings\n",
    "warnings.filterwarnings('ignore')\n",
    "\n",
    "def estandarizar_90(metrica):\n",
    "    metrica_90 = round(df[metrica] * 90 / df['Minutos jugados'],2)\n",
    "    return metrica_90\n",
    "        \n",
    "for i in df.columns:\n",
    "    if df[i].dtypes!='object' and i!='Minutos jugados':\n",
    "        df[\"{}_90min\".format(i)] = estandarizar_90(i)"
   ]
  },
  {
   "cell_type": "code",
   "execution_count": 23,
   "id": "b1526622",
   "metadata": {},
   "outputs": [
    {
     "data": {
      "text/html": [
       "<div>\n",
       "<style scoped>\n",
       "    .dataframe tbody tr th:only-of-type {\n",
       "        vertical-align: middle;\n",
       "    }\n",
       "\n",
       "    .dataframe tbody tr th {\n",
       "        vertical-align: top;\n",
       "    }\n",
       "\n",
       "    .dataframe thead th {\n",
       "        text-align: right;\n",
       "    }\n",
       "</style>\n",
       "<table border=\"1\" class=\"dataframe\">\n",
       "  <thead>\n",
       "    <tr style=\"text-align: right;\">\n",
       "      <th></th>\n",
       "      <th>ID</th>\n",
       "      <th>Jugador</th>\n",
       "      <th>Índice InStat</th>\n",
       "      <th>Partidos jugados</th>\n",
       "      <th>Minutos jugados</th>\n",
       "      <th>Starting lineup appearances</th>\n",
       "      <th>Jugador sustituido</th>\n",
       "      <th>De sustitucion</th>\n",
       "      <th>Goles</th>\n",
       "      <th>Asistencias</th>\n",
       "      <th>...</th>\n",
       "      <th>Robos de balón con éxito, %_90min</th>\n",
       "      <th>Expected assists_90min</th>\n",
       "      <th>xG per shot_90min</th>\n",
       "      <th>xG per goal_90min</th>\n",
       "      <th>xG conversion_90min</th>\n",
       "      <th>xG with a player on_90min</th>\n",
       "      <th>Opponent's xG with a player on_90min</th>\n",
       "      <th>Net xG (xG player on - opp. team's xG)_90min</th>\n",
       "      <th>Defensive xG (xG of shots made by guarded player)_90min</th>\n",
       "      <th>Defensive xG per shot_90min</th>\n",
       "    </tr>\n",
       "  </thead>\n",
       "  <tbody>\n",
       "    <tr>\n",
       "      <th>284</th>\n",
       "      <td>7</td>\n",
       "      <td>Cristhian Stuani</td>\n",
       "      <td>199</td>\n",
       "      <td>41</td>\n",
       "      <td>3140</td>\n",
       "      <td>30.0</td>\n",
       "      <td>12.0</td>\n",
       "      <td>11.0</td>\n",
       "      <td>24.0</td>\n",
       "      <td>3.0</td>\n",
       "      <td>...</td>\n",
       "      <td>1.03</td>\n",
       "      <td>0.06</td>\n",
       "      <td>0.01</td>\n",
       "      <td>0.03</td>\n",
       "      <td>0.03</td>\n",
       "      <td>1.32</td>\n",
       "      <td>0.83</td>\n",
       "      <td>0.46</td>\n",
       "      <td>0.01</td>\n",
       "      <td>0.0</td>\n",
       "    </tr>\n",
       "    <tr>\n",
       "      <th>267</th>\n",
       "      <td>9</td>\n",
       "      <td>Borja</td>\n",
       "      <td>200</td>\n",
       "      <td>40</td>\n",
       "      <td>3457</td>\n",
       "      <td>36.0</td>\n",
       "      <td>13.0</td>\n",
       "      <td>4.0</td>\n",
       "      <td>22.0</td>\n",
       "      <td>2.0</td>\n",
       "      <td>...</td>\n",
       "      <td>1.07</td>\n",
       "      <td>0.03</td>\n",
       "      <td>0.01</td>\n",
       "      <td>0.02</td>\n",
       "      <td>0.03</td>\n",
       "      <td>1.04</td>\n",
       "      <td>0.99</td>\n",
       "      <td>0.04</td>\n",
       "      <td>0.00</td>\n",
       "      <td>0.0</td>\n",
       "    </tr>\n",
       "    <tr>\n",
       "      <th>94</th>\n",
       "      <td>19</td>\n",
       "      <td>Stoico</td>\n",
       "      <td>215</td>\n",
       "      <td>40</td>\n",
       "      <td>3156</td>\n",
       "      <td>38.0</td>\n",
       "      <td>32.0</td>\n",
       "      <td>2.0</td>\n",
       "      <td>21.0</td>\n",
       "      <td>6.0</td>\n",
       "      <td>...</td>\n",
       "      <td>0.86</td>\n",
       "      <td>0.09</td>\n",
       "      <td>0.01</td>\n",
       "      <td>0.02</td>\n",
       "      <td>0.04</td>\n",
       "      <td>1.28</td>\n",
       "      <td>0.97</td>\n",
       "      <td>0.31</td>\n",
       "      <td>0.00</td>\n",
       "      <td>0.0</td>\n",
       "    </tr>\n",
       "    <tr>\n",
       "      <th>204</th>\n",
       "      <td>9</td>\n",
       "      <td>Shon Zalman Weissman</td>\n",
       "      <td>205</td>\n",
       "      <td>38</td>\n",
       "      <td>3325</td>\n",
       "      <td>37.0</td>\n",
       "      <td>12.0</td>\n",
       "      <td>1.0</td>\n",
       "      <td>20.0</td>\n",
       "      <td>3.0</td>\n",
       "      <td>...</td>\n",
       "      <td>0.97</td>\n",
       "      <td>0.05</td>\n",
       "      <td>0.01</td>\n",
       "      <td>0.03</td>\n",
       "      <td>0.03</td>\n",
       "      <td>1.60</td>\n",
       "      <td>1.06</td>\n",
       "      <td>0.54</td>\n",
       "      <td>0.00</td>\n",
       "      <td>0.0</td>\n",
       "    </tr>\n",
       "    <tr>\n",
       "      <th>438</th>\n",
       "      <td>7</td>\n",
       "      <td>Ruben Castro</td>\n",
       "      <td>189</td>\n",
       "      <td>41</td>\n",
       "      <td>3370</td>\n",
       "      <td>39.0</td>\n",
       "      <td>21.0</td>\n",
       "      <td>2.0</td>\n",
       "      <td>20.0</td>\n",
       "      <td>7.0</td>\n",
       "      <td>...</td>\n",
       "      <td>0.88</td>\n",
       "      <td>0.16</td>\n",
       "      <td>0.01</td>\n",
       "      <td>0.02</td>\n",
       "      <td>0.03</td>\n",
       "      <td>1.20</td>\n",
       "      <td>1.28</td>\n",
       "      <td>0.10</td>\n",
       "      <td>0.00</td>\n",
       "      <td>0.0</td>\n",
       "    </tr>\n",
       "  </tbody>\n",
       "</table>\n",
       "<p>5 rows × 153 columns</p>\n",
       "</div>"
      ],
      "text/plain": [
       "     ID               Jugador Índice InStat  Partidos jugados  \\\n",
       "284   7      Cristhian Stuani           199                41   \n",
       "267   9                 Borja           200                40   \n",
       "94   19                Stoico           215                40   \n",
       "204   9  Shon Zalman Weissman           205                38   \n",
       "438   7          Ruben Castro           189                41   \n",
       "\n",
       "     Minutos jugados  Starting lineup appearances  Jugador sustituido  \\\n",
       "284             3140                         30.0                12.0   \n",
       "267             3457                         36.0                13.0   \n",
       "94              3156                         38.0                32.0   \n",
       "204             3325                         37.0                12.0   \n",
       "438             3370                         39.0                21.0   \n",
       "\n",
       "     De sustitucion  Goles  Asistencias  ...  \\\n",
       "284            11.0   24.0          3.0  ...   \n",
       "267             4.0   22.0          2.0  ...   \n",
       "94              2.0   21.0          6.0  ...   \n",
       "204             1.0   20.0          3.0  ...   \n",
       "438             2.0   20.0          7.0  ...   \n",
       "\n",
       "     Robos de balón con éxito, %_90min  Expected assists_90min  \\\n",
       "284                               1.03                    0.06   \n",
       "267                               1.07                    0.03   \n",
       "94                                0.86                    0.09   \n",
       "204                               0.97                    0.05   \n",
       "438                               0.88                    0.16   \n",
       "\n",
       "     xG per shot_90min  xG per goal_90min  xG conversion_90min  \\\n",
       "284               0.01               0.03                 0.03   \n",
       "267               0.01               0.02                 0.03   \n",
       "94                0.01               0.02                 0.04   \n",
       "204               0.01               0.03                 0.03   \n",
       "438               0.01               0.02                 0.03   \n",
       "\n",
       "     xG with a player on_90min  Opponent's xG with a player on_90min  \\\n",
       "284                       1.32                                  0.83   \n",
       "267                       1.04                                  0.99   \n",
       "94                        1.28                                  0.97   \n",
       "204                       1.60                                  1.06   \n",
       "438                       1.20                                  1.28   \n",
       "\n",
       "     Net xG (xG player on - opp. team's xG)_90min  \\\n",
       "284                                          0.46   \n",
       "267                                          0.04   \n",
       "94                                           0.31   \n",
       "204                                          0.54   \n",
       "438                                          0.10   \n",
       "\n",
       "     Defensive xG (xG of shots made by guarded player)_90min  \\\n",
       "284                                               0.01         \n",
       "267                                               0.00         \n",
       "94                                                0.00         \n",
       "204                                               0.00         \n",
       "438                                               0.00         \n",
       "\n",
       "     Defensive xG per shot_90min  \n",
       "284                          0.0  \n",
       "267                          0.0  \n",
       "94                           0.0  \n",
       "204                          0.0  \n",
       "438                          0.0  \n",
       "\n",
       "[5 rows x 153 columns]"
      ]
     },
     "execution_count": 23,
     "metadata": {},
     "output_type": "execute_result"
    }
   ],
   "source": [
    "df.head()"
   ]
  }
 ],
 "metadata": {
  "kernelspec": {
   "display_name": "Python 3 (ipykernel)",
   "language": "python",
   "name": "python3"
  },
  "language_info": {
   "codemirror_mode": {
    "name": "ipython",
    "version": 3
   },
   "file_extension": ".py",
   "mimetype": "text/x-python",
   "name": "python",
   "nbconvert_exporter": "python",
   "pygments_lexer": "ipython3",
   "version": "3.8.5"
  }
 },
 "nbformat": 4,
 "nbformat_minor": 5
}
